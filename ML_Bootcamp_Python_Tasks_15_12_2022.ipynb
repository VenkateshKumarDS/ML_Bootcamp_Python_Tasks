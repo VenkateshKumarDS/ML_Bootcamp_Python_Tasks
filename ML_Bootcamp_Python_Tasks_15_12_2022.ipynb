{
  "nbformat": 4,
  "nbformat_minor": 0,
  "metadata": {
    "colab": {
      "provenance": []
    },
    "kernelspec": {
      "name": "python3",
      "display_name": "Python 3"
    },
    "language_info": {
      "name": "python"
    }
  },
  "cells": [
    {
      "cell_type": "markdown",
      "source": [
        "**1.WAP to accept two numbers from the user and display their sum**"
      ],
      "metadata": {
        "id": "vihRx9gbgx2e"
      }
    },
    {
      "cell_type": "code",
      "execution_count": 1,
      "metadata": {
        "colab": {
          "base_uri": "https://localhost:8080/"
        },
        "id": "8dE4YM2fghuk",
        "outputId": "a7d30076-1c3d-420a-cc99-7daf1ab5638d"
      },
      "outputs": [
        {
          "output_type": "stream",
          "name": "stdout",
          "text": [
            "Enter 2 numbers separated by space:6 5\n",
            "The sum of  6 and 5 is: 11\n"
          ]
        }
      ],
      "source": [
        "a,b=map(int,input('Enter 2 numbers separated by space:').split())\n",
        "print(\"The sum of \",a,'and',b,'is:',a+b)"
      ]
    },
    {
      "cell_type": "markdown",
      "source": [
        "**2. WAP to accept radius of a Circle from the user and calculate area and circumference**"
      ],
      "metadata": {
        "id": "7ilpHqTugw3w"
      }
    },
    {
      "cell_type": "code",
      "source": [
        "r=float(input('Enter Radius of the Circle:'))\n",
        "area=(22/7)*(r**2)\n",
        "circum=2*(22/7)*r\n",
        "print('The area of the circle of radius %.2f units is %.2f sq.units and the cirucmference is %.2f units'%(r,area,circum))"
      ],
      "metadata": {
        "colab": {
          "base_uri": "https://localhost:8080/"
        },
        "id": "4giqP9Q1hdYb",
        "outputId": "02428539-f0de-4299-af6b-3b6c927c3d93"
      },
      "execution_count": 12,
      "outputs": [
        {
          "output_type": "stream",
          "name": "stdout",
          "text": [
            "Enter Radius of the Circle:5\n",
            "The area of the circle of radius 5.00 units is 78.57 sq.units and the cirucmference is 31.43 units\n"
          ]
        }
      ]
    },
    {
      "cell_type": "markdown",
      "source": [
        "**3. WAP to accept roll number, grade and percentage as input from the user and display it**"
      ],
      "metadata": {
        "id": "o-FXpan4jgf1"
      }
    },
    {
      "cell_type": "code",
      "source": [
        "roll=int(input('Enter roll no.:'))\n",
        "grade=input('Enter grade:')\n",
        "perc=float(input('Enter the Percentage:'))\n",
        "print('\\nThe Roll No. is %d.'%roll)\n",
        "print('The grade is %s.'%grade)\n",
        "print('The percentage is %.2f Percentage.'%perc)\n",
        "\n"
      ],
      "metadata": {
        "id": "hKTyV_6Fjprd"
      },
      "execution_count": null,
      "outputs": []
    },
    {
      "cell_type": "markdown",
      "source": [
        "**4. Write a program that asks the user to enter his/her name and age. Print out a message , displaying the user’s name along with the year in which they will turn 100 years old.**"
      ],
      "metadata": {
        "id": "hZQIeWqOoM93"
      }
    },
    {
      "cell_type": "code",
      "source": [
        "name=input(\"Enter a Name:\")\n",
        "age=int(input('Enter Age:'))\n",
        "cur_yr=int(input('Enter Current Year:'))\n",
        "cent=cur_yr+(100-age)\n",
        "print(name,'will turn 100 years by',cent)"
      ],
      "metadata": {
        "id": "0llLezozoUdJ"
      },
      "execution_count": null,
      "outputs": []
    },
    {
      "cell_type": "markdown",
      "source": [
        "**5. Write a program that asks the user to input 2 integers and adds them . Accept both the numbers in a single line only**"
      ],
      "metadata": {
        "id": "pqaOufshpTJA"
      }
    },
    {
      "cell_type": "code",
      "source": [
        "a,b=map(int,input('Enter 2 numbers separated by space:').split())\n",
        "print(\"The sum of \",a,'and',b,'is:',a+b)"
      ],
      "metadata": {
        "id": "0LR1TYOnpYx5"
      },
      "execution_count": null,
      "outputs": []
    },
    {
      "cell_type": "markdown",
      "source": [
        "**6. Write a Python program which accepts the user's first and last name and print them in reverse order with a space between them.**"
      ],
      "metadata": {
        "id": "gaCB5CT4pcoj"
      }
    },
    {
      "cell_type": "code",
      "source": [
        "fname,lname=input('Enter first and last name with a space:').split()\n",
        "print('The reverse order of first and last name is:',lname[::-1],fname[::-1])"
      ],
      "metadata": {
        "colab": {
          "base_uri": "https://localhost:8080/"
        },
        "id": "P2FajYw5piLR",
        "outputId": "76410cf8-c169-452f-8f82-97397af2c2c4"
      },
      "execution_count": 34,
      "outputs": [
        {
          "output_type": "stream",
          "name": "stdout",
          "text": [
            "Enter first and last name with a space:venk kumar\n",
            "The reverse order of first and last name is: ramuk knev\n"
          ]
        }
      ]
    },
    {
      "cell_type": "markdown",
      "source": [
        "15/12/2022\n",
        "\n",
        "**7. WAP to accept an integer from the user and check whether it is an even or odd**"
      ],
      "metadata": {
        "id": "nuQENA1zqLnd"
      }
    },
    {
      "cell_type": "code",
      "source": [
        "num=int(input('Enter a number:'))\n",
        "if num%2 == 0:\n",
        "  print(\"The given no %d is an even number\"%num)\n",
        "else:\n",
        "  print(\"The given no %d is an odd number\"%num)"
      ],
      "metadata": {
        "colab": {
          "base_uri": "https://localhost:8080/"
        },
        "id": "b8MO_mCixmuh",
        "outputId": "916f4dd0-b7b1-4e15-9f75-735ef6efb997"
      },
      "execution_count": 35,
      "outputs": [
        {
          "output_type": "stream",
          "name": "stdout",
          "text": [
            "Enter a number:25\n",
            "The given no 25 is an odd number\n"
          ]
        }
      ]
    },
    {
      "cell_type": "markdown",
      "source": [
        "**8. WAP to accept a character from the user and check whether it is a capital letter or small letter. Assume user will input only alphabets**"
      ],
      "metadata": {
        "id": "B4ePGbo4y4zI"
      }
    },
    {
      "cell_type": "code",
      "source": [
        "chr=input()[0]\n",
        "if chr.isupper()==True:\n",
        "  print(\"The input character '%s' is a capital letter.\"%chr)\n",
        "else:\n",
        "  print(\"The input character '%s' is a small letter.\"%chr)"
      ],
      "metadata": {
        "colab": {
          "base_uri": "https://localhost:8080/"
        },
        "id": "Qhg9xvzixfaT",
        "outputId": "30d702a0-ec67-45fb-f1f6-baf1a74336b1"
      },
      "execution_count": 43,
      "outputs": [
        {
          "output_type": "stream",
          "name": "stdout",
          "text": [
            "a\n",
            "The input character 'a' is a small letter.\n"
          ]
        }
      ]
    },
    {
      "cell_type": "markdown",
      "source": [
        "**9. WAP to accept a character from the user and check whether it is a capital letter or small letter or a digit or some special symbol**"
      ],
      "metadata": {
        "id": "xPr6g3qsz2hZ"
      }
    },
    {
      "cell_type": "code",
      "source": [
        "chr=input()[0]\n",
        "if chr.isupper()==True:\n",
        "  print(\"The input character '%s' is a capital letter.\"%chr)\n",
        "elif chr.islower()==True:\n",
        "  print(\"The input character '%s' is a small letter.\"%chr)\n",
        "elif chr.isnumeric()==True:\n",
        "  print(\"The input character '%s' is a digit.\"%chr)\n",
        "else:\n",
        "  print(\"The input character '%s' is a special character.\"%chr)"
      ],
      "metadata": {
        "colab": {
          "base_uri": "https://localhost:8080/"
        },
        "id": "DRKi_Qviz8Bf",
        "outputId": "c4e6be42-fd6c-4c97-cc7a-4af355cea48b"
      },
      "execution_count": 47,
      "outputs": [
        {
          "output_type": "stream",
          "name": "stdout",
          "text": [
            "*\n",
            "The input character '*' is a special character.\n"
          ]
        }
      ]
    },
    {
      "cell_type": "markdown",
      "source": [
        "**10. WAP to accept 3 integers from the user and without using any logical operator and cascading of relational operators , find out the greatest number amongst them**"
      ],
      "metadata": {
        "id": "7RM6s-be0pIA"
      }
    },
    {
      "cell_type": "code",
      "source": [
        "a,b,c=map(int,input('Enter 3 numbers separated by space:').split())\n",
        "if a>b and a>c:\n",
        "  print(a,'is greater than',b,'and',c)\n",
        "elif b>a and b>c:\n",
        "  print(b,'is greater than',a,'and',c)\n",
        "else:\n",
        "    print(c,'is greater than',a,'and',b)\n",
        "\n"
      ],
      "metadata": {
        "colab": {
          "base_uri": "https://localhost:8080/"
        },
        "id": "I4rx6JG-0u7d",
        "outputId": "04113a31-cb38-4107-a298-6c133d9cdeaa"
      },
      "execution_count": 50,
      "outputs": [
        {
          "output_type": "stream",
          "name": "stdout",
          "text": [
            "Enter 3 numbers separated by space:3 5 1\n",
            "5 is greater than 3 and 1\n"
          ]
        }
      ]
    },
    {
      "cell_type": "markdown",
      "source": [
        "**11. WAP to accept a year from the user and check whether it is a leap year or not.**"
      ],
      "metadata": {
        "id": "In6AiMPm2IOV"
      }
    },
    {
      "cell_type": "code",
      "source": [
        "year=int(input())\n",
        "if year%4 == 0 and year%100 !=0 or year%400 == 0:\n",
        "  print(year,'is a leap year.')\n",
        "else:\n",
        "  print(year,'is a not a leap year.')"
      ],
      "metadata": {
        "colab": {
          "base_uri": "https://localhost:8080/"
        },
        "id": "b72nUzuN2Huf",
        "outputId": "9e0948a8-b16e-4ca6-9551-7354e4a566e0"
      },
      "execution_count": 55,
      "outputs": [
        {
          "output_type": "stream",
          "name": "stdout",
          "text": [
            "2100\n",
            "2100 is a not a leap year.\n"
          ]
        }
      ]
    },
    {
      "cell_type": "markdown",
      "source": [
        "**12. Number Guessing Game**"
      ],
      "metadata": {
        "id": "inIvNdh474tS"
      }
    },
    {
      "cell_type": "code",
      "source": [
        "import random\n",
        "x = random.randint(1,10)\n",
        "print(x)\n",
        "while x>0:\n",
        "  user_num=int(input('Guess a number from 1 to 10:'))\n",
        "  if user_num == x:\n",
        "    print(\"Congratulations! You guessed it right\")\n",
        "    break \n",
        "  elif user_num > x:\n",
        "    print(\"Number too large\")\n",
        "    continue\n",
        "  elif user_num < x and user_num > 0:\n",
        "    print(\"Number too small\")\n",
        "    continue\n",
        "  else:\n",
        "    print('Thanks for playing')\n",
        "    break\n",
        "  "
      ],
      "metadata": {
        "colab": {
          "base_uri": "https://localhost:8080/"
        },
        "id": "ONaSnTpw8P4K",
        "outputId": "8afe3cc2-21ac-47fb-ce2c-c9351373bcc2"
      },
      "execution_count": 77,
      "outputs": [
        {
          "output_type": "stream",
          "name": "stdout",
          "text": [
            "4\n",
            "Guess a number from 1 to 10:5\n",
            "Number too large\n",
            "Guess a number from 1 to 10:7\n",
            "Number too large\n",
            "Guess a number from 1 to 10:0\n",
            "Thanks for playing\n"
          ]
        }
      ]
    },
    {
      "cell_type": "markdown",
      "source": [
        "**13. Write a program to accept a string from the user and display it vertically but don’t display the vowels in it.**"
      ],
      "metadata": {
        "id": "2Sy3MLk2CAIe"
      }
    },
    {
      "cell_type": "code",
      "source": [
        "string=input()\n",
        "i=0\n",
        "while i<len(string):\n",
        "  if string[i] not in 'AEIOUaeiou':\n",
        "    print(string[i])\n",
        "  i+=1"
      ],
      "metadata": {
        "id": "qAw2UCwOCITn"
      },
      "execution_count": null,
      "outputs": []
    },
    {
      "cell_type": "markdown",
      "source": [
        "**14(a). Write a program to continuously accept integers from the user until the user types 0 and as soon as 0 is entered display sum of all the nos entered before 0**"
      ],
      "metadata": {
        "id": "_JAJSIuZC09o"
      }
    },
    {
      "cell_type": "code",
      "source": [
        "sum=0\n",
        "while True:\n",
        "  num=int(input('Enter a number:'))\n",
        "  if num !=0:\n",
        "    sum+=num\n",
        "  else:\n",
        "    break\n",
        "print('Sum=',sum)\n"
      ],
      "metadata": {
        "colab": {
          "base_uri": "https://localhost:8080/"
        },
        "id": "4rByDYZ7C8Jx",
        "outputId": "2295a6ea-2283-4af4-d914-f377398aa9aa"
      },
      "execution_count": 85,
      "outputs": [
        {
          "output_type": "stream",
          "name": "stdout",
          "text": [
            "Enter a number:1\n",
            "Enter a number:2\n",
            "Enter a number:3\n",
            "Enter a number:6\n",
            "Enter a number:9\n",
            "Enter a number:0\n",
            "Sum= 21\n"
          ]
        }
      ]
    },
    {
      "cell_type": "markdown",
      "source": [
        "**14(b) Modify the previous code so that if the user inputs a negative integer , your program should ignore it .**"
      ],
      "metadata": {
        "id": "5MiSIYH7H5Pz"
      }
    },
    {
      "cell_type": "code",
      "source": [
        "sum=0\n",
        "while True:\n",
        "  num=int(input('Enter a number:'))\n",
        "  if num<0:\n",
        "    continue\n",
        "  elif num !=0:\n",
        "    sum+=num\n",
        "  else:\n",
        "    break\n",
        "print('Sum=',sum)"
      ],
      "metadata": {
        "colab": {
          "base_uri": "https://localhost:8080/"
        },
        "id": "hB3j9pbdH_I0",
        "outputId": "11788b7e-1fd6-48ad-fdd9-3ff590547513"
      },
      "execution_count": 87,
      "outputs": [
        {
          "output_type": "stream",
          "name": "stdout",
          "text": [
            "Enter a number:-1\n",
            "Enter a number:-2\n",
            "Enter a number:-3\n",
            "Enter a number:0\n",
            "Sum= 0\n"
          ]
        }
      ]
    }
  ]
}