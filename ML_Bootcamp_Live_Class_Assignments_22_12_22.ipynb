{
  "nbformat": 4,
  "nbformat_minor": 0,
  "metadata": {
    "colab": {
      "provenance": []
    },
    "kernelspec": {
      "name": "python3",
      "display_name": "Python 3"
    },
    "language_info": {
      "name": "python"
    }
  },
  "cells": [
    {
      "cell_type": "markdown",
      "source": [
        "**15. Write a program using a for loop to accept a string from the user and display it vertically but don’t display the vowels in it.**"
      ],
      "metadata": {
        "id": "LFKBCxCDwv4V"
      }
    },
    {
      "cell_type": "code",
      "source": [
        "a=input('Enter a String:')\n",
        "for i in a:\n",
        "    if i not in 'aeiouAEIOU':\n",
        "        print(i)"
      ],
      "metadata": {
        "id": "5LK0KtHaw5na"
      },
      "execution_count": null,
      "outputs": []
    },
    {
      "cell_type": "markdown",
      "source": [
        "**16. Write a program to accept an integer from the user and display the sum of all the numbers from 1 to that number.**"
      ],
      "metadata": {
        "id": "fPRMulidzsQh"
      }
    },
    {
      "cell_type": "code",
      "source": [
        "a=int(input('Enter a number:'))\n",
        "add=0\n",
        "for i in range(1,a+1):\n",
        "    add+=i\n",
        "print('The sum =',add)"
      ],
      "metadata": {
        "id": "XLOeocoSz0nq"
      },
      "execution_count": null,
      "outputs": []
    },
    {
      "cell_type": "markdown",
      "source": [
        "**17. Write a program to accept an integer from the user and calculate its factorial.**"
      ],
      "metadata": {
        "id": "tTb1oYk5z51x"
      }
    },
    {
      "cell_type": "code",
      "source": [
        "a=int(input(\"Enter a number to find it's factorial:\"))\n",
        "fct=1\n",
        "for i in range(1,a+1):\n",
        "    fct*=i\n",
        "print('The factorial of',a,'is',fct)"
      ],
      "metadata": {
        "id": "dzi9DHtLz_DQ"
      },
      "execution_count": null,
      "outputs": []
    },
    {
      "cell_type": "markdown",
      "source": [
        "**18. Write a program to print the following pattern**"
      ],
      "metadata": {
        "id": "2HK9feNs0XY2"
      }
    },
    {
      "cell_type": "code",
      "source": [
        "'''\n",
        "  ***\n",
        "  ***\n",
        "  *** \n",
        "'''\n",
        "n=int(input('Enter limit:'))\n",
        "for i in range(n):\n",
        "  for j in range(3):\n",
        "    print('*',end='')\n",
        "  print()"
      ],
      "metadata": {
        "colab": {
          "base_uri": "https://localhost:8080/"
        },
        "id": "-O98Y6Jr0lfN",
        "outputId": "d9239aee-a743-44e0-c171-3d6a44d74737"
      },
      "execution_count": 4,
      "outputs": [
        {
          "output_type": "stream",
          "name": "stdout",
          "text": [
            "Enter limit:5\n",
            "***\n",
            "***\n",
            "***\n",
            "***\n",
            "***\n"
          ]
        }
      ]
    },
    {
      "cell_type": "code",
      "source": [
        "''' 18. Write a program to print the following pattern\n",
        "  *\n",
        "  **\n",
        "  ***\n",
        "  ****\n",
        "'''\n",
        "n=int(input('Enter limit:'))\n",
        "for i in range(n):\n",
        "  for j in range(i+1):\n",
        "    print('*',end='')\n",
        "  print()"
      ],
      "metadata": {
        "colab": {
          "base_uri": "https://localhost:8080/"
        },
        "id": "34zRJBUz1H4E",
        "outputId": "a21c341c-ead9-4e9d-a425-0ec558f006bf"
      },
      "execution_count": 5,
      "outputs": [
        {
          "output_type": "stream",
          "name": "stdout",
          "text": [
            "Enter limit:4\n",
            "*\n",
            "**\n",
            "***\n",
            "****\n"
          ]
        }
      ]
    },
    {
      "cell_type": "code",
      "source": [
        "''' 19. Write a program to print the following pattern\n",
        "  ****\n",
        "  ***\n",
        "  **\n",
        "  *\n",
        "'''\n",
        "n=int(input('Enter limit:'))\n",
        "for i in range(n):\n",
        "  for j in range(n-i):\n",
        "    print('*',end='')\n",
        "  print()"
      ],
      "metadata": {
        "colab": {
          "base_uri": "https://localhost:8080/"
        },
        "id": "gaVdTE5Q273V",
        "outputId": "79eb96e9-0457-4a93-d91d-fb3f87a94709"
      },
      "execution_count": 8,
      "outputs": [
        {
          "output_type": "stream",
          "name": "stdout",
          "text": [
            "Enter limit:5\n",
            "*****\n",
            "****\n",
            "***\n",
            "**\n",
            "*\n"
          ]
        }
      ]
    },
    {
      "cell_type": "markdown",
      "source": [
        "**20 Write a program to accept an integer from the user and display all the numbers from 1 to that number. Repeat the process until the user enters 0.**"
      ],
      "metadata": {
        "id": "dwg5Xn993eQz"
      }
    },
    {
      "cell_type": "code",
      "source": [
        "while True:\n",
        "  a=int(input('Enter a number:'))\n",
        "  if a!=0:\n",
        "    for i in range(1,a+1):\n",
        "      print(i,end=' ')\n",
        "    print()\n",
        "  else:\n",
        "    print('Thank you!')\n",
        "    break\n"
      ],
      "metadata": {
        "colab": {
          "base_uri": "https://localhost:8080/"
        },
        "id": "qHzsDnAv3jI-",
        "outputId": "50aafac8-b952-42f8-ca57-c01cd4ded626"
      },
      "execution_count": 14,
      "outputs": [
        {
          "output_type": "stream",
          "name": "stdout",
          "text": [
            "Enter a number:5\n",
            "1 2 3 4 5 \n",
            "Enter a number:6\n",
            "1 2 3 4 5 6 \n",
            "Enter a number:2\n",
            "1 2 \n",
            "Enter a number:0\n",
            "Thank you!\n"
          ]
        }
      ]
    }
  ]
}